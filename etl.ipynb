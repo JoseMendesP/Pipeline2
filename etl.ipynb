{
 "cells": [
  {
   "cell_type": "code",
   "execution_count": 72,
   "metadata": {},
   "outputs": [],
   "source": [
    "import os\n",
    "import datetime as dt"
   ]
  },
  {
   "cell_type": "markdown",
   "metadata": {},
   "source": [
    "Extraits les données sous forme de String"
   ]
  },
  {
   "cell_type": "code",
   "execution_count": 73,
   "metadata": {},
   "outputs": [],
   "source": [
    "def load_sample(path):\n",
    "    with open(path, 'r') as fichier:\n",
    "        donnee=fichier.readlines()\n",
    "    return donnee"
   ]
  },
  {
   "cell_type": "code",
   "execution_count": 74,
   "metadata": {},
   "outputs": [],
   "source": [
    "data=load_sample(\"donnees_emetteurs.txt\")"
   ]
  },
  {
   "cell_type": "markdown",
   "metadata": {},
   "source": [
    "Transforme les données"
   ]
  },
  {
   "cell_type": "code",
   "execution_count": 75,
   "metadata": {},
   "outputs": [],
   "source": [
    "def generate_json(data):\n",
    "    donnee_dict = {}\n",
    "    \n",
    "    for e in data:\n",
    "        e = e.strip()\n",
    "        f = e.split(\" \")\n",
    "        nom = f[0]  \n",
    "        n = float(f[2])\n",
    "        if nom in donnee_dict:\n",
    "            donnee_dict[nom] += n\n",
    "        else:\n",
    "            donnee_dict[nom] = n\n",
    "    somme_per = {}\n",
    "    cpt=0\n",
    "    for nom, total in donnee_dict.items():\n",
    "        somme_per[cpt]={\n",
    "            \"Nom\": nom,\n",
    "            \"total_envoye\": total\n",
    "        }\n",
    "        cpt+=1\n",
    "    return somme_per"
   ]
  },
  {
   "cell_type": "code",
   "execution_count": 76,
   "metadata": {},
   "outputs": [
    {
     "name": "stdout",
     "output_type": "stream",
     "text": [
      "{0: {'Nom': 'Dupont', 'total_envoye': 21821.6}, 1: {'Nom': 'Garnier', 'total_envoye': 28553.969999999998}, 2: {'Nom': 'Martin', 'total_envoye': 29935.55}, 3: {'Nom': 'Petit', 'total_envoye': 17880.84}, 4: {'Nom': 'Fournier', 'total_envoye': 35441.36}, 5: {'Nom': 'Girard', 'total_envoye': 17908.61}, 6: {'Nom': 'Blanc', 'total_envoye': 13627.220000000003}, 7: {'Nom': 'Moreau', 'total_envoye': 44868.2}, 8: {'Nom': 'Bernard', 'total_envoye': 19876.24}, 9: {'Nom': 'Durand', 'total_envoye': 35103.41}}\n"
     ]
    }
   ],
   "source": [
    "aff=generate_json(data)\n",
    "print(aff)"
   ]
  },
  {
   "cell_type": "markdown",
   "metadata": {},
   "source": [
    "Sauvegarder le JSON dans un fichier"
   ]
  },
  {
   "cell_type": "code",
   "execution_count": 71,
   "metadata": {},
   "outputs": [],
   "source": [
    "def save_result(path, result):\n",
    "    Date=dt.date.today()\n",
    "    nom_fichier=f\"{path}/result_sample1_datetime{Date}.txt\"\n",
    "    with open(nom_fichier,\"w\")as fich:\n",
    "        for nom, total in result.items():\n",
    "            fich.write(f\"{nom}: {total}€\\n\")\n",
    "    return nom_fichier\n",
    "\n"
   ]
  },
  {
   "cell_type": "code",
   "execution_count": 69,
   "metadata": {},
   "outputs": [
    {
     "data": {
      "text/plain": [
       "'FF/result_sample1_datetime2024-09-22.txt'"
      ]
     },
     "execution_count": 69,
     "metadata": {},
     "output_type": "execute_result"
    }
   ],
   "source": [
    "save_result(\"FF\",aff)"
   ]
  }
 ],
 "metadata": {
  "kernelspec": {
   "display_name": ".venv",
   "language": "python",
   "name": "python3"
  },
  "language_info": {
   "codemirror_mode": {
    "name": "ipython",
    "version": 3
   },
   "file_extension": ".py",
   "mimetype": "text/x-python",
   "name": "python",
   "nbconvert_exporter": "python",
   "pygments_lexer": "ipython3",
   "version": "3.10.11"
  }
 },
 "nbformat": 4,
 "nbformat_minor": 2
}
